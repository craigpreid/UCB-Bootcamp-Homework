{
 "cells": [
  {
   "cell_type": "code",
   "execution_count": 11,
   "metadata": {},
   "outputs": [
    {
     "data": {
      "image/png": "[encoded data removed]",
      "text/plain": [
       "<Figure size 432x288 with 1 Axes>"
      ]
     },
     "metadata": {},
     "output_type": "display_data"
    }
   ],
   "source": [
    "#This is a code sample to calculate the legend and color the circles\n",
    "\n",
    "\n",
    "import matplotlib.pyplot as plt\n",
    "import matplotlib.patches as mpatches\n",
    "X = [1, 2 ,3, 1, 2, 3, 4]\n",
    "Y = [1, 1, 1, 2, 2, 2, 2]\n",
    "labels = [0, 1, 1, 0, 0, 2, 2]\n",
    "key = {0: ('red', 'hello'), 1: ('green', 'full'), 2: ('blue', 'nice')}\n",
    "plt.scatter(X, Y, c=[key[index][0] for index in labels], s=50)\n",
    "patches = [mpatches.Patch(color=color, label=label) for color, label in key.values()]\n",
    "plt.legend(handles=patches, labels=[label for _, label in key.values()], bbox_to_anchor=(1, .3))\n",
    "plt.show()"
   ]
  },
  {
   "cell_type": "code",
   "execution_count": null,
   "metadata": {},
   "outputs": [],
   "source": []
  }
 ],
 "metadata": {
  "kernelspec": {
   "display_name": "Python 3",
   "language": "python",
   "name": "python3"
  },
  "language_info": {
   "codemirror_mode": {
    "name": "ipython",
    "version": 3
   },
   "file_extension": ".py",
   "mimetype": "text/x-python",
   "name": "python",
   "nbconvert_exporter": "python",
   "pygments_lexer": "ipython3",
   "version": "3.6.5"
  }
 },
 "nbformat": 4,
 "nbformat_minor": 2
}
