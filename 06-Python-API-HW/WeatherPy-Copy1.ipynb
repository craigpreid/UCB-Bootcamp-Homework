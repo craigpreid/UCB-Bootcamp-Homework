{
 "cells": [
  {
   "cell_type": "code",
   "execution_count": 4,
   "metadata": {
    "scrolled": true
   },
   "outputs": [],
   "source": [
    "# Dependencies and Setup\n",
    "import matplotlib.pyplot as plt\n",
    "import pandas as pd\n",
    "import numpy as np\n",
    "import requests\n",
    "import time\n",
    "import json\n",
    "\n",
    "# Import API key\n",
    "import api_keys\n",
    "\n",
    "# Incorporated citipy to determine city based on latitude and longitude\n",
    "from citipy import citipy\n",
    "\n",
    "# Output File (CSV)\n",
    "output_data_file = \"output_data/cities.csv\"\n",
    "\n",
    "# Range of latitudes and longitudes\n",
    "lat_range = (-90, 90)\n",
    "lng_range = (-180, 180)"
   ]
  },
  {
   "cell_type": "markdown",
   "metadata": {},
   "source": [
    "## Generate Cities List"
   ]
  },
  {
   "cell_type": "code",
   "execution_count": 5,
   "metadata": {},
   "outputs": [
    {
     "name": "stdout",
     "output_type": "stream",
     "text": [
      "['mutsu', 'port alfred', 'maarianhamina', 'fort nelson', 'atuona', 'kisszallas', 'constitucion', 'avarua', 'barrow', 'rio claro', 'balikpapan', 'emilio carranza', 'hermanus', 'luba', 'yellowknife', 'ushuaia', 'hwange', 'vestmannaeyjar', 'marsh harbour', 'mabaruma', 'east london', 'tautira', 'saint-philippe', 'kaitangata', 'bluff', 'illoqqortoormiut', 'wagar', 'aklavik', 'rio grande', 'lazaro cardenas', 'vaini', 'nome', 'dikson', 'rikitea', 'qaanaaq', 'punta arenas', 'klaksvik', 'talanga', 'hobart', 'cockburn town', 'busselton', 'nanortalik', 'zhuanghe', 'kerteh', 'cape town', 'kang', 'usinsk', 'northam', 'thompson', 'carnarvon', 'gogrial', 'hecun', 'tumannyy', 'el rosario', 'attawapiskat', 'tombouctou', 'springdale', 'padang', 'malwan', 'nouadhibou', 'vila', 'tasiilaq', 'tiksi', 'avera', 'palm coast', 'beloha', 'pevek', 'mataura', 'victoria', 'salta', 'arman', 'iquitos', 'bardiyah', 'ponta do sol', 'chokurdakh', 'lebu', 'vardo', 'amuntai', 'arraial do cabo', 'albany', 'edgewood', 'codrington', 'kachug', 'vaitupu', 'jamestown', 'kapit', 'khuzhir', 'montelibano', 'yulara', 'tsihombe', 'te anau', 'pacific grove', 'ilulissat', 'mogadishu', 'lavrentiya', 'puerto ayora', 'longyearbyen', 'georgetown', 'rio gallegos', 'souillac', 'moose factory', 'luena', 'chulman', 'grand river south east', 'petropavlovsk-kamchatskiy', 'kruisfontein', 'kapaa', 'dong hoi', 'sept-iles', 'cherskiy', 'airai', 'tuktoyaktuk', 'quatre cocos', 'teknaf', 'taolanaro', 'norman wells', 'ixtapa', 'lata', 'belmonte', 'pangnirtung', 'provideniya', 'mar del plata', 'castle bruce', 'lere', 'marcona', 'samarai', 'vostok', 'hithadhoo', 'cairns', 'hanumangarh', 'port said', 'sisimiut', 'half moon bay', 'rio cuarto', 'tezu', 'college', 'port augusta', 'taoudenni', 'praia da vitoria', 'chapais', 'penzance', 'amderma', 'samalaeulu', 'banda aceh', 'okato', 'hobyo', 'farafangana', 'burica', 'bethel', 'sitka', 'faanui', 'petauke', 'severo-kurilsk', 'guicheng', 'batagay', 'pisco', 'lahaina', 'ures', 'vila velha', 'nizhniy tsasuchey', 'vilyuysk', 'henties bay', 'west bay', 'turinsk', 'buala', 'khatanga', 'castelbuono', 'chuy', 'saleaula', 'isla vista', 'makakilo city', 'new norfolk', 'port elizabeth', 'tessalit', 'acapulco', 'sao gabriel da cachoeira', 'port hardy', 'champerico', 'aasiaat', 'husavik', 'port blair', 'myitkyina', 'birjand', 'ileza', 'nikolskoye', 'porto novo', 'sabana abajo', 'pokaran', 'karpinsk', 'antequera', 'san cristobal', 'chegdomyn', 'challapata', 'youghal', 'songea', 'bredasdorp', 'hilo', 'vitorino freire', 'hami', 'saveh', 'barentsburg', 'saldanha', 'svetlogorsk', 'alofi', 'eureka', 'benghazi', 'atambua', 'kudinovo', 'mecca', 'tilichiki', 'amapa', 'chicama', 'tanete', 'guarapari', 'moiyabana', 'kamenka', 'priargunsk', 'naze', 'suhut', 'zaysan', 'gorontalo', 'alpena', 'leningradskiy', 'beringovskiy', 'garden city', 'elizabeth city', 'meulaboh', 'nioro', 'pochutla', 'kahului', 'robertsport', 'namibe', 'xinzhi', 'tommot', 'severnyy', 'upernavik', 'acuna', 'zhezkazgan', 'boueni', 'fairlie', 'orlik', 'paita', 'jiazi', 'manggar', 'sao joao da barra', 'ribeira grande', 'bayonet point', 'porto empedocle', 'neuquen', 'cabo san lucas', 'montgomery', 'bambous virieux', 'guerrero negro', 'chiang rai', 'haverfordwest', 'jacareacanga', 'antofagasta', 'lompoc', 'aloleng', 'mahebourg', 'saskylakh', 'waipawa', 'bolonchen', 'esperance', 'verkhnetulomskiy', 'hofn', 'elko', 'san patricio', 'zhigansk', 'maldonado', 'puerto cortes', 'isoka', 'gwadar', 'gat', 'upata', 'sinnamary', 'the valley', 'yirol', 'nizhneyansk', 'samusu', 'cordele', 'kadykchan', 'la ronge', 'port lincoln', 'nizwa', 'garoua', 'tartus', 'kodiak', 'iquique', 'piney green', 'tucurui', 'burgeo', 'camargo', 'vila do maio', 'shimoda', 'chifeng', 'surt', 'charters towers', 'glodeni', 'ust-nera', 'talnakh', 'murgab', 'nongan', 'paradwip', 'burns lake', 'bima', 'wright', 'karaton', 'iskateley', 'castro', 'skjervoy', 'biak', 'caravelas', 'san quintin', 'turayf', 'olafsvik', 'pontefract', 'lolua', 'igarka', 'tabuk', 'tabiauea', 'komsomolskiy', 'talawdi', 'ancud', 'tame', 'babanusah', 'maragogi', 'dordrecht', 'tucupita', 'lukovetskiy', 'zhangye', 'belushya guba', 'bar harbor', 'litoral del san juan', 'sistranda', 'pringsewu', 'kolokani', 'dolores', 'sataua', 'estelle', 'muros', 'tuatapere', 'timra', 'mareeba', 'eenhana', 'hanmer springs', 'stolin', 'volsk', 'tignere', 'fairbanks', 'xuddur', 'hasaki', 'westport', 'coquimbo', 'zhaoqing', 'ouadda', 'yar-sale', 'jaen', 'pousat', 'sivas', 'bogorodskoye', 'baykit', 'temnikov', 'tatarsk', 'louisbourg', 'coahuayana', 'emerald', 'isangel', 'bengkulu', 'yumen', 'dingle', 'yermakovskoye', 'butaritari', 'young', 'fort frances', 'nantucket', 'sioux lookout', 'luderitz', 'mys shmidta', 'safaga', 'maniitsoq', 'timbiqui', 'khonuu', 'agadir', 'touros', 'tateyama', 'ushtobe', 'tefe', 'kulhudhuffushi', 'mahina', 'yenagoa', 'bondo', 'realeza', 'richards bay', 'tuggurt', 'adrar', 'lerwick', 'dukat', 'domat', 'jalingo', 'tagusao', 'santiago del estero', 'mount isa', 'abu samrah', 'larsnes', 'pak phanang', 'gigmoto', 'milan', 'la salle', 'srivardhan', 'sendafa', 'salym', 'warrnambool', 'stony mountain', 'cidreira', 'dhidhdhoo', 'narsaq', 'kidal', 'vestmanna', 'mahibadhoo', 'kenai', 'bilma', 'nordby', 'hamilton', 'floro', 'bilokurakyne', 'yining', 'mossendjo', 'bako', 'bilibino', 'hilton head island', 'ituni', 'palabuhanratu', 'dunedin', 'burkhala', 'barra do garcas', 'dax', 'raga', 'livingston', 'olinda', 'molteno', 'bull savanna', 'tsiroanomandidy', 'marienburg', 'loyga', 'farrukhnagar', 'umzimvubu', 'hambantota', 'snasa', 'rockhampton', 'villarrica', 'gravelbourg', 'altay', 'yialos', 'keti bandar', 'simao', 'semey', 'broken hill', 'broome', 'juneau', 'trairi', 'rodrigues alves', 'novyy urgal', 'ruatoria', 'barcelona', 'vao', 'montes altos', 'barranca', 'minot', 'faya', 'kulachi', 'griffith', 'calama', 'seoul', 'cabedelo', 'torbay', 'katsuura', 'ketou', 'balabac', 'blythe', 'harper', 'cristalina', 'mahadday weyne', 'dwarka', 'ust-ilimsk', 'vanavara', 'nemuro', 'tymovskoye', 'laguna', 'tornio', 'naryan-mar', 'tura', 'savelugu', 'beni mazar', 'bozhou', 'zhucheng', 'baruun-urt', 'keetmanshoop', 'manakara', 'cayenne', 'yen bai', 'wanaka', 'kyra', 'zemio', 'wahran', 'maltahohe', 'luwuk', 'dunmore town', 'sadowara', 'korem', 'palmer', 'falealupo', 'fuerte olimpo', 'baixo guandu', 'buraydah', 'chaman', 'paamiut', 'washington', 'corinto', 'barabash', 'massakory', 'koutsouras', 'ilebo', 'galgani', 'las vegas', 'inderborskiy', 'moranbah', 'vorobyevka', 'otjiwarongo', 'port hedland', 'klyuchi', 'fasa', 'mingshui', 'penapolis', 'ahuimanu', 'pachuca', 'imeni babushkina', 'lima', 'sao jose da coroa grande', 'oktyabrskoye', 'zhaotong', 'adelaide', 'tiznit', 'lasa', 'sidney', 'tandalti', 'ostersund', 'geraldton', 'benjamin constant', 'comodoro rivadavia', 'gejiu', 'trinidad', 'khor', 'progreso', 'ellsworth', 'japura', 'miri', 'iqaluit', 'apatfalva', 'lichinga', 'gizo', 'phan rang', 'guaymas', 'taltal', 'puerto del rosario', 'kasongo-lunda', 'miracema do tocantins', 'koungou', 'troitskoye', 'abnub', 'asuncion', 'sao filipe', 'labuhan', 'liberty', 'ahipara', 'mkushi', 'saint george', 'tiarei', 'beaufort', 'savannah bight', 'nizhnevartovsk', 'cotonou', 'thinadhoo', 'sambava', 'banikoara', 'luwingu', 'unye', 'yantzaza', 'pedernales', 'nanning', 'honiara', 'impfondo', 'dicabisagan', 'oistins', 'smithers', 'sarangani', 'camacha', 'amsterdam', 'port moresby', 'cape coast', 'havre-saint-pierre', 'sentyabrskiy', 'jalu', 'nizhniy kuranakh', 'troina', 'flin flon', 'verkhoyansk', 'ossora', 'srednekolymsk', 'boguchany', 'takab', 'mankera', 'ostrovnoy', 'bouna', 'medvedka', 'palmeira', 'pavlovka', 'asau', 'formosa', 'san andres', 'pacifica', 'luanda', 'sabancuy', 'kangaatsiaq', 'havre', 'kirakira', 'evensk', 'inongo', 'santa vitoria do palmar', 'caceres', 'atar', 'steinbach', 'sao domingos do prata', 'bonthe']\n"
     ]
    }
   ],
   "source": [
    "# List for holding lat_lngs and cities\n",
    "lat_lngs = []\n",
    "cities = []\n",
    "\n",
    "# Create a set of random lat and lng combinations\n",
    "lats = np.random.uniform(low=-90.000, high=90.000, size=1500)\n",
    "lngs = np.random.uniform(low=-180.000, high=180.000, size=1500)\n",
    "lat_lngs = zip(lats, lngs)\n",
    "\n",
    "# Identify nearest city for each lat, lng combination\n",
    "for lat_lng in lat_lngs:\n",
    "    city = citipy.nearest_city(lat_lng[0], lat_lng[1]).city_name\n",
    "    \n",
    "    # If the city is unique, then add it to a our cities list\n",
    "    if city not in cities:\n",
    "        cities.append(city)\n",
    "\n",
    "# Print the city count to confirm sufficient count\n",
    "len(cities)\n",
    "print (cities)"
   ]
  },
  {
   "cell_type": "markdown",
   "metadata": {},
   "source": [
    "## Perform API Calls"
   ]
  },
  {
   "cell_type": "code",
   "execution_count": 8,
   "metadata": {},
   "outputs": [
    {
     "name": "stdout",
     "output_type": "stream",
     "text": [
      "37.44\n",
      "79.36\n",
      "0.77\n",
      "0.4\n",
      "16.11\n"
     ]
    }
   ],
   "source": [
    "# OpenWeatherMap API Key\n",
    "api_key = api_keys.api_key\n",
    "\n",
    "# Starting URL for Weather Map API Call\n",
    "url = \"http://api.openweathermap.org/data/2.5/weather?units=Imperial&APPID=\" + api_key \n",
    "\n",
    "city = \"palo alto\"\n",
    "\n",
    "lookup_url = url + \"&q=\" + city\n",
    "\n",
    "# Get weather data\n",
    "weather_response = requests.get(lookup_url)\n",
    "weather_json = weather_response.json()\n",
    "#weather_json = json.dumps(weather_json, indent=4, sort_keys=True)\n",
    "\n",
    "# Get the temperature from the response\n",
    "#print(json.dumps(weather_json, indent=4, sort_keys=True))\n",
    "\n",
    "lat = weather_json['coord']['lat']\n",
    "temp = weather_json['main']['temp']\n",
    "humidity = weather_json['main']['humidity']/100\n",
    "cloudiness = weather_json['clouds']['all']/100\n",
    "windspeed = weather_json['wind']['speed']\n",
    "\n",
    "print (lat)\n",
    "print (temp)\n",
    "print (humidity)\n",
    "print (cloudiness)\n",
    "print (windspeed)"
   ]
  },
  {
   "cell_type": "code",
   "execution_count": 26,
   "metadata": {},
   "outputs": [
    {
     "name": "stdout",
     "output_type": "stream",
     "text": [
      "{\n",
      "    \"base\": \"stations\",\n",
      "    \"clouds\": {\n",
      "        \"all\": 100\n",
      "    },\n",
      "    \"cod\": 200,\n",
      "    \"coord\": {\n",
      "        \"lat\": 15.79,\n",
      "        \"lon\": 120.99\n",
      "    },\n",
      "    \"dt\": 1532551961,\n",
      "    \"id\": 1689431,\n",
      "    \"main\": {\n",
      "        \"grnd_level\": 986.43,\n",
      "        \"humidity\": 100,\n",
      "        \"pressure\": 986.43,\n",
      "        \"sea_level\": 1019.91,\n",
      "        \"temp\": 71.12,\n",
      "        \"temp_max\": 71.12,\n",
      "        \"temp_min\": 71.12\n",
      "    },\n",
      "    \"name\": \"San Jose\",\n",
      "    \"rain\": {\n",
      "        \"3h\": 7.8225\n",
      "    },\n",
      "    \"sys\": {\n",
      "        \"country\": \"PH\",\n",
      "        \"message\": 0.0037,\n",
      "        \"sunrise\": 1532468150,\n",
      "        \"sunset\": 1532514549\n",
      "    },\n",
      "    \"weather\": [\n",
      "        {\n",
      "            \"description\": \"moderate rain\",\n",
      "            \"icon\": \"10n\",\n",
      "            \"id\": 501,\n",
      "            \"main\": \"Rain\"\n",
      "        }\n",
      "    ],\n",
      "    \"wind\": {\n",
      "        \"deg\": 48.0013,\n",
      "        \"speed\": 1.81\n",
      "    }\n",
      "}\n"
     ]
    }
   ],
   "source": [
    "# This is a test print to get pull the right data\n",
    "weather_json = json.dumps(weather_json, indent=4, sort_keys=True)\n",
    "print (weather_json)"
   ]
  },
  {
   "cell_type": "code",
   "execution_count": null,
   "metadata": {},
   "outputs": [],
   "source": []
  },
  {
   "cell_type": "code",
   "execution_count": null,
   "metadata": {},
   "outputs": [],
   "source": []
  }
 ],
 "metadata": {
  "anaconda-cloud": {},
  "kernelspec": {
   "display_name": "Python 3",
   "language": "python",
   "name": "python3"
  },
  "language_info": {
   "codemirror_mode": {
    "name": "ipython",
    "version": 3
   },
   "file_extension": ".py",
   "mimetype": "text/x-python",
   "name": "python",
   "nbconvert_exporter": "python",
   "pygments_lexer": "ipython3",
   "version": "3.6.5"
  }
 },
 "nbformat": 4,
 "nbformat_minor": 1
}
