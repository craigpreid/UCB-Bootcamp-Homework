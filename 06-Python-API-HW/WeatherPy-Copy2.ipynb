{
 "cells": [
  {
   "cell_type": "code",
   "execution_count": 10,
   "metadata": {
    "scrolled": true
   },
   "outputs": [],
   "source": [
    "# Dependencies and Setup\n",
    "import matplotlib.pyplot as plt\n",
    "import pandas as pd\n",
    "import numpy as np\n",
    "import requests\n",
    "import time\n",
    "import json\n",
    "\n",
    "# Import API key\n",
    "import api_keys\n",
    "\n",
    "# Incorporated citipy to determine city based on latitude and longitude\n",
    "from citipy import citipy\n",
    "\n",
    "# Output File (CSV)\n",
    "output_data_file = \"output_data/cities.csv\"\n",
    "\n",
    "# Range of latitudes and longitudes\n",
    "lat_range = (-90, 90)\n",
    "lng_range = (-180, 180)"
   ]
  },
  {
   "cell_type": "markdown",
   "metadata": {},
   "source": [
    "## Generate Cities List"
   ]
  },
  {
   "cell_type": "code",
   "execution_count": 11,
   "metadata": {},
   "outputs": [
    {
     "name": "stdout",
     "output_type": "stream",
     "text": [
      "['port alfred', 'hilo', 'coromandel', 'barentsburg', 'lompoc', 'tocopilla', 'fonte boa', 'la peca', 'comodoro rivadavia', 'nikolskoye', 'pevek', 'sola', 'salinopolis', 'mataura', 'daru', 'qaanaaq', 'albany', 'viransehir', 'puerto ayora', 'grindavik', 'saldanha', 'ushuaia', 'severo-kurilsk', 'tuatapere', 'kruisfontein', 'amderma', 'kapaa', 'howard springs', 'coracao de jesus', 'haimen', 'padang', 'kaitangata', 'anaconda', 'hambantota', 'krasnoselkup', 'barrow', 'illoqqortoormiut', 'grand river south east', 'inirida', 'zlynka', 'hobart', 'pangnirtung', 'kodino', 'dunedin', 'ous', 'makakilo city', 'kieta', 'sitka', 'goderich', 'airai', 'thompson', 'port hardy', 'tuktoyaktuk', 'wuda', 'pandan', 'moranbah', 'chuy', 'tromso', 'cape town', 'chimbote', 'isangel', 'evensk', 'busselton', 'vaini', 'tessalit', 'am timan', 'vostok', 'egvekinot', 'novoorsk', 'jamestown', 'mar del plata', 'punta arenas', 'east london', 'chagda', 'port elizabeth', 'taolanaro', 'antofagasta', 'rikitea', 'yellowknife', 'hermanus', 'caravelas', 'saskylakh', 'chernyshevskiy', 'guerrero negro', 'pundaguitan', 'baiyin', 'norman wells', 'san cristobal', 'poum', 'belushya guba', 'alofi', 'havoysund', 'castro', 'sechura', 'qasigiannguit', 'ponta delgada', 'bambous virieux', 'marabba', 'saint-philippe', 'lorengau', 'brufut', 'halalo', 'ribeira grande', 'anadyr', 'marzuq', 'altus', 'sibolga', 'huarmey', 'new norfolk', 'progreso', 'ksenyevka', 'butaritari', 'avera', 'tabatinga', 'balabac', 'giyani', 'lebu', 'bengkulu', 'salalah', 'atasu', 'valley city', 'kushima', 'bengkalis', 'tautira', 'georgetown', 'hukuntsi', 'vzmorye', 'rio grande', 'mys shmidta', 'bredasdorp', 'hasaki', 'vila do maio', 'chokurdakh', 'bluff', 'attawapiskat', 'cidreira', 'victoria', 'pokhara', 'russell', 'atuona', 'san patricio', 'codrington', 'sur', 'sokolo', 'potsdam', 'langxiang', 'spirit river', 'tiarei', 'ust-kuyga', 'nguiu', 'presidencia roque saenz pena', 'bac can', 'tarakan', 'san rafael', 'asau', 'belen', 'alugan', 'lola', 'ponta do sol', 'kodiak', 'gogrial', 'coquimbo', 'klaksvik', 'tasiilaq', 'port hedland', 'port lincoln', 'kahului', 'bethel', 'ossora', 'kikwit', 'constitucion', 'tawkar', 'tazovskiy', 'lashio', 'carnarvon', 'college', 'provideniya', 'baruun-urt', 'kuche', 'marathon', 'damaturu', 'taltal', 'talaya', 'kangaatsiaq', 'vestmannaeyjar', 'dikson', 'cheuskiny', 'oranjestad', 'roald', 'chapadinha', 'ust-kulom', 'warqla', 'beaumont', 'lyuban', 'kushiro', 'narsaq', 'lekoni', 'quelimane', 'upernavik', 'matameye', 'puerto carreno', 'umzimvubu', 'zabaykalsk', 'areia branca', 'keti bandar', 'labuhan', 'sidi qasim', 'metro', 'ahipara', 'biltine', 'sorland', 'malko tarnovo', 'longyearbyen', 'tshikapa', 'krasnoyarskiy', 'ilulissat', 'hithadhoo', 'pochutla', 'esperance', 'gbarnga', 'marcona', 'avarua', 'coihaique', 'lata', 'pemba', 'aklavik', 'kurilsk', 'cumana', 'saint george', 'ancud', 'luderitz', 'hangu', 'beyneu', 'port moresby', 'serenje', 'saint anthony', 'ucluelet', 'kenai', 'sarakhs', 'mahebourg', 'cap malheureux', 'pisco', 'rudabanya', 'san pedro', 'arraial do cabo', 'bandarbeyla', 'half moon bay', 'abha', 'tahoua', 'lima', 'buchanan', 'verkhoyansk', 'arlit', 'pemangkat', 'dubai', 'plettenberg bay', 'vardo', 'pangkalanbuun', 'qui nhon', 'faya', 'richards bay', 'koutiala', 'nouadhibou', 'saba', 'rungata', 'fortuna', 'adre', 'raudeberg', 'loa janan', 'bandar-e lengeh', 'sisimiut', 'kokopo', 'vestmanna', 'henties bay', 'clyde river', 'tiksi', 'bairiki', 'dhidhdhoo', 'sentyabrskiy', 'mount gambier', 'ambilobe', 'talipparamba', 'dosso', 'thinadhoo', 'atar', 'wala', 'morondava', 'yirol', 'oranjemund', 'esil', 'rudnichnyy', 'tiznit', 'dingle', 'bereda', 'viligili', 'kaohsiung', 'lloret de mar', 'champasak', 'shelburne', 'kirakira', 'bilibino', 'aranda de duero', 'kichera', 'luanda', 'kudahuvadhoo', 'blairmore', 'marawi', 'saint-francois', 'leh', 'englewood', 'oksfjord', 'karymskoye', 'aberdeen', 'honolulu', 'katsuura', 'sinnamary', 'yumen', 'do rud', 'adrar', 'antalaha', 'osorno', 'haibowan', 'vsevolodo-vilva', 'bonavista', 'north bend', 'bac lieu', 'nizhneyansk', 'tura', 'concepcion del uruguay', 'wajima', 'urumqi', 'mapiripan', 'sao joao da barra', 'lithakia', 'rio bueno', 'bucerias', 'kita', 'cairns', 'yaritagua', 'qaqortoq', 'ati', 'yenangyaung', 'tumannyy', 'touros', 'barcelona', 'leningradskiy', 'santo domingo', 'ulladulla', 'yaqui', 'tsihombe', 'khasan', 'calvinia', 'gonaives', 'bolonchen', 'talnakh', 'cabedelo', 'berlevag', 'bozoum', 'veraval', 'tignere', 'dehu', 'goundam', 'namibe', 'danilovka', 'lebanon', 'takoradi', 'awjilah', 'andenes', 'margate', 'la romana', 'bokspits', 'villazon', 'puerto colombia', 'balkhash', 'gat', 'taoudenni', 'muisne', 'souillac', 'tela', 'cabo san lucas', 'clovis', 'amahai', 'inhambane', 'looc', 'yulara', 'khatanga', 'tampere', 'wasaga beach', 'fare', 'severo-yeniseyskiy', 'sao filipe', 'cootamundra', 'maceio', 'creel', 'vaitupu', 'saint-joseph', 'astana', 'belaya kholunitsa', 'bollnas', 'komsomolskiy', 'brae', 'kavaratti', 'itoman', 'ixtapa', 'hami', 'port blair', 'terra santa', 'fairbanks', 'schwarzenbach', 'bathsheba', 'bangui', 'sayhat', 'tidore', 'tucuman', 'kurud', 'naze', 'nova olimpia', 'virginia beach', 'karaul', 'dongying', 'hamilton', 'tevaitoa', 'vao', 'nokaneng', 'mandurah', 'nemuro', 'port huron', 'faanui', 'lugovoy', 'bang sai', 'ljubinje', 'mount isa', 'mae ramat', 'cumaribo', 'skegness', 'buta', 'vitoria do mearim', 'aykhal', 'timiryazevskoye', 'mackenzie', 'kavieng', 'zyryanka', 'atambua', 'mantua', 'rovaniemi', 'bargal', 'banska bystrica', 'ovalle', 'troitskoye', 'nuuk', 'cherskiy', 'fuling', 'watsa', 'tabou', 'koungou', 'itarantim', 'mudanjiang', 'tabiauea', 'garwolin', 'shibarghan', 'lagoa', 'erenhot', 'necochea', 'swinford', 'villaviciosa', 'iqaluit', 'cayenne', 'ostrovnoy', 'mrirt', 'maua', 'meulaboh', 'ballina', 'palauig', 'hofn', 'lingao', 'port shepstone', 'artyk', 'aksu', 'kyzyl-suu', 'gao', 'point fortin', 'pho chai', 'binzhou', 'beitbridge', 'umm durman', 'iquitos', 'laguna', 'gornopravdinsk', 'port-gentil', 'tianpeng', 'westport', 'zaysan', 'borogontsy', 'machilipatnam', 'kodinsk', 'okha', 'zulueta', 'pavlovsk', 'saint-augustin', 'sovetskiy', 'high level', 'codajas', 'luganville', 'te anau', 'kijang', 'cacimba de dentro', 'palmer', 'almaznyy', 'los llanos de aridane', 'alihe', 'zhangye', 'mayo', 'hudson bay', 'rafraf', 'buala', 'ocampo', 'muros', 'kedrovyy', 'san ramon', 'havelock', 'tonneins', 'zhigansk', 'yatou', 'puerto quijarro', 'bonito', 'mogadishu', 'ballesteros', 'shubarkuduk', 'skalistyy', 'kadykchan', 'governador dix-sept rosado', 'san diego de la union', 'szczytno', 'yelizovo', 'port macquarie', 'tilichiki', 'ijaki', 'honningsvag', 'toliary', 'erzin', 'suntar', 'saint-louis', 'kaili', 'palabuhanratu', 'mingshui', 'seryshevo', 'puerto escondido', 'geraldton', 'djibo', 'newport', 'corpus christi', 'challapata', 'chabahar', 'lasa', 'merauke', 'olafsvik', 'nuevitas', 'alice springs', 'juneau', 'duekoue', 'srednekolymsk', 'joao pinheiro', 'port-cartier', 'parakou', 'auki', 'broome', 'sao jose da coroa grande', 'vila velha', 'phan rang', 'dutlwe', 'stonewall', 'umm kaddadah', 'alta floresta', 'pedasi', 'gairo', 'little current', 'mana', 'petropavlovsk-kamchatskiy', 'sibu', 'bosaso', 'springdale', 'kloulklubed', 'sumbe', 'abnub', 'vanimo', 'richard toll', 'malwan', 'zhigalovo', 'san luis', 'mokobeng', 'santarem', 'aksarka', 'humboldt', 'lamar', 'louisbourg', 'noshiro', 'pula', 'pombas', 'sao felix do xingu', 'benicarlo', 'svetlogorsk', 'galle', 'rossland']\n"
     ]
    }
   ],
   "source": [
    "# List for holding lat_lngs and cities\n",
    "lat_lngs = []\n",
    "cities = []\n",
    "\n",
    "# Create a set of random lat and lng combinations\n",
    "lats = np.random.uniform(low=-90.000, high=90.000, size=1500)\n",
    "lngs = np.random.uniform(low=-180.000, high=180.000, size=1500)\n",
    "lat_lngs = zip(lats, lngs)\n",
    "\n",
    "# Identify nearest city for each lat, lng combination\n",
    "for lat_lng in lat_lngs:\n",
    "    city = citipy.nearest_city(lat_lng[0], lat_lng[1]).city_name\n",
    "    \n",
    "    # If the city is unique, then add it to a our cities list\n",
    "    if city not in cities:\n",
    "        cities.append(city)\n",
    "\n",
    "# Print the city count to confirm sufficient count\n",
    "len(cities)\n",
    "print (cities)"
   ]
  },
  {
   "cell_type": "markdown",
   "metadata": {},
   "source": [
    "## Perform API Calls"
   ]
  },
  {
   "cell_type": "code",
   "execution_count": 33,
   "metadata": {},
   "outputs": [
    {
     "name": "stdout",
     "output_type": "stream",
     "text": [
      "15.79\n",
      "71.12\n",
      "1.0\n",
      "1.0\n",
      "1.81\n"
     ]
    }
   ],
   "source": [
    "# OpenWeatherMap API Key\n",
    "api_key = api_keys.api_key\n",
    "\n",
    "# Starting URL for Weather Map API Call\n",
    "url = \"http://api.openweathermap.org/data/2.5/weather?units=Imperial&APPID=\" + api_key \n",
    "\n",
    "city = []\n",
    "\n",
    "lookup_url = url + \"&q=\" + city\n"
   ]
  },
  {
   "cell_type": "code",
   "execution_count": 45,
   "metadata": {},
   "outputs": [
    {
     "name": "stdout",
     "output_type": "stream",
     "text": [
      "city:  port alfred\n",
      "lat:  -33.59  /Temp:  63.11  /Humidity:  1.0  /Cloudiness:  1.0  /Windspeed:  4.61\n",
      "city:  hilo\n",
      "lat:  19.71  /Temp:  77.04  /Humidity:  0.66  /Cloudiness:  0.75  /Windspeed:  8.05\n",
      "city:  coromandel\n",
      "lat:  -36.76  /Temp:  59  /Humidity:  0.77  /Cloudiness:  0.0  /Windspeed:  13.87\n",
      "No data for barentsburg\n",
      "city:  lompoc\n",
      "lat:  34.64  /Temp:  80.82  /Humidity:  0.23  /Cloudiness:  0.01  /Windspeed:  16.11\n",
      "city:  tocopilla\n",
      "lat:  -22.09  /Temp:  64.82  /Humidity:  0.87  /Cloudiness:  0.48  /Windspeed:  3.71\n",
      "city:  fonte boa\n",
      "lat:  -2.51  /Temp:  81.47  /Humidity:  0.8  /Cloudiness:  0.48  /Windspeed:  3.71\n",
      "city:  la peca\n",
      "lat:  -5.61  /Temp:  72.56  /Humidity:  0.81  /Cloudiness:  0.08  /Windspeed:  2.37\n",
      "city:  comodoro rivadavia\n",
      "lat:  -45.87  /Temp:  51.8  /Humidity:  0.43  /Cloudiness:  0.0  /Windspeed:  3.36\n",
      "city:  nikolskoye\n",
      "lat:  59.7  /Temp:  68  /Humidity:  0.82  /Cloudiness:  0.4  /Windspeed:  4.47\n",
      "city:  pevek\n",
      "lat:  69.7  /Temp:  44.03  /Humidity:  0.94  /Cloudiness:  0.92  /Windspeed:  6.96\n"
     ]
    }
   ],
   "source": [
    "counter = 0\n",
    "\n",
    "for city in cities:\n",
    "\n",
    "# Get weather data\n",
    "    lookup_url = url + \"&q=\" + city\n",
    "    weather_response = requests.get(lookup_url)\n",
    "    weather_json = weather_response.json()\n",
    "\n",
    "    try: \n",
    "        # Get the lat, temp, humidity, cloudiness, windspeed from the response\n",
    "\n",
    "        lat = weather_json['coord']['lat']\n",
    "        temp = weather_json['main']['temp']\n",
    "        humidity = weather_json['main']['humidity']/100\n",
    "        cloudiness = weather_json['clouds']['all']/100\n",
    "        windspeed = weather_json['wind']['speed']\n",
    "\n",
    "        counter += 1\n",
    "\n",
    "        print (\"city: \", city)\n",
    "        print (\"lat: \", lat, \" /Temp: \", temp, \" /Humidity: \", humidity, \" /Cloudiness: \", cloudiness, \" /Windspeed: \", windspeed)\n",
    "\n",
    "\n",
    "        if counter == 10:\n",
    "            break\n",
    "            \n",
    "    except KeyError:\n",
    "        print (f\"No data for {city}\")"
   ]
  },
  {
   "cell_type": "code",
   "execution_count": null,
   "metadata": {},
   "outputs": [],
   "source": []
  }
 ],
 "metadata": {
  "anaconda-cloud": {},
  "kernelspec": {
   "display_name": "Python 3",
   "language": "python",
   "name": "python3"
  },
  "language_info": {
   "codemirror_mode": {
    "name": "ipython",
    "version": 3
   },
   "file_extension": ".py",
   "mimetype": "text/x-python",
   "name": "python",
   "nbconvert_exporter": "python",
   "pygments_lexer": "ipython3",
   "version": "3.6.5"
  }
 },
 "nbformat": 4,
 "nbformat_minor": 1
}
